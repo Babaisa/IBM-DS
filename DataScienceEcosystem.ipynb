{
 "cells": [
  {
   "cell_type": "markdown",
   "id": "a225f732",
   "metadata": {},
   "source": [
    "# Data Science Tools and Ecosystem Using H1 Style Heading."
   ]
  },
  {
   "cell_type": "markdown",
   "id": "6780ccd6",
   "metadata": {},
   "source": [
    "In this notebook, Data Science Tools and Ecosystem are summarized."
   ]
  },
  {
   "cell_type": "markdown",
   "id": "11f05473",
   "metadata": {},
   "source": [
    "__Objectives:__\n",
    "* Create a markdown cell to count data science tools.\n",
    "* List of popular language used by data scientists.\n",
    "* Understanding aasic arithmetic expressions.\n",
    "* Create markdown cells with title of the notebook.\n",
    "    "
   ]
  },
  {
   "cell_type": "markdown",
   "id": "24214447",
   "metadata": {},
   "source": [
    "Some of the popular languages that data scientists use are:\n",
    "1. Python\n",
    "2. Java\n",
    "3. SQL\n",
    "4. C++"
   ]
  },
  {
   "cell_type": "markdown",
   "id": "b0ee54a1",
   "metadata": {},
   "source": [
    "Some of the commonly used libraries used by data scientists include:\n",
    "1. Scientific computational libraries(e.g Numpy, Pandas and Matplotlib)\n",
    "2. Visualization libraries (e.g GGplot, Plotly and Seaborn)\n",
    "3. Machine and deep learning libraries (e.g TensorFlow, Scikit-learn)"
   ]
  },
  {
   "cell_type": "markdown",
   "id": "9685bb13",
   "metadata": {},
   "source": [
    "|Data Science Tools|\n",
    "|------------------|\n",
    "|Jupiter|\n",
    "|Jupiter Lab|\n",
    "|RStudio|\n",
    "|Spyder|"
   ]
  },
  {
   "cell_type": "markdown",
   "id": "b3b72f43",
   "metadata": {},
   "source": [
    "### Below are few examples of evaluating arithmetic expressions in python."
   ]
  },
  {
   "cell_type": "code",
   "execution_count": 1,
   "id": "fe2709f2",
   "metadata": {},
   "outputs": [
    {
     "data": {
      "text/plain": [
       "17"
      ]
     },
     "execution_count": 1,
     "metadata": {},
     "output_type": "execute_result"
    }
   ],
   "source": [
    "# This is a simple arithmetic expression to multiply then add integers.\n",
    "(3*4)+5"
   ]
  },
  {
   "cell_type": "code",
   "execution_count": 2,
   "id": "a7c2daaf",
   "metadata": {},
   "outputs": [
    {
     "data": {
      "text/plain": [
       "3.3333333333333335"
      ]
     },
     "execution_count": 2,
     "metadata": {},
     "output_type": "execute_result"
    }
   ],
   "source": [
    "# This will convert 200 minutes to hours by deviding by 60.\n",
    "200/60"
   ]
  },
  {
   "cell_type": "markdown",
   "id": "8c4ac4ed",
   "metadata": {},
   "source": [
    "## Author\n",
    "Isa Lawan"
   ]
  },
  {
   "cell_type": "code",
   "execution_count": null,
   "id": "63d380d7",
   "metadata": {},
   "outputs": [],
   "source": []
  }
 ],
 "metadata": {
  "kernelspec": {
   "display_name": "Python 3 (ipykernel)",
   "language": "python",
   "name": "python3"
  },
  "language_info": {
   "codemirror_mode": {
    "name": "ipython",
    "version": 3
   },
   "file_extension": ".py",
   "mimetype": "text/x-python",
   "name": "python",
   "nbconvert_exporter": "python",
   "pygments_lexer": "ipython3",
   "version": "3.11.4"
  }
 },
 "nbformat": 4,
 "nbformat_minor": 5
}
